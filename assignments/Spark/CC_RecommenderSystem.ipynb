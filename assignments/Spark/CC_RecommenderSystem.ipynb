{
  "cells": [
    {
      "cell_type": "markdown",
      "metadata": {
        "id": "KRbXgu9ZTWKU"
      },
      "source": [
        "# Mount"
      ]
    },
    {
      "cell_type": "code",
      "execution_count": null,
      "metadata": {
        "colab": {
          "base_uri": "https://localhost:8080/"
        },
        "id": "YsR2UOSjTXrd",
        "outputId": "0f22b3ce-f09a-41e2-8b21-26cca7703492"
      },
      "outputs": [
        {
          "name": "stdout",
          "output_type": "stream",
          "text": [
            "Mounted at /content/drive\n"
          ]
        }
      ],
      "source": [
        "from google.colab import drive\n",
        "drive.mount('/content/drive', force_remount=True)"
      ]
    },
    {
      "cell_type": "markdown",
      "metadata": {
        "id": "tD8cRtkMNT7w"
      },
      "source": [
        "# PySpark Setup"
      ]
    },
    {
      "cell_type": "markdown",
      "metadata": {
        "id": "jebVNtf8NZYf"
      },
      "source": [
        "## Download Java Virtual Machine (JVM)"
      ]
    },
    {
      "cell_type": "code",
      "execution_count": null,
      "metadata": {
        "id": "Y9RVN8SRLqki"
      },
      "outputs": [],
      "source": [
        "!apt-get install openjdk-8-jdk-headless -qq > /dev/null"
      ]
    },
    {
      "cell_type": "markdown",
      "metadata": {
        "id": "3zRGIsBoNbyM"
      },
      "source": [
        "## Download Hadoop"
      ]
    },
    {
      "cell_type": "code",
      "execution_count": null,
      "metadata": {
        "id": "CgHf-pMINfsL"
      },
      "outputs": [],
      "source": [
        "!wget -q https://archive.apache.org/dist/spark/spark-3.0.0/spark-3.0.0-bin-hadoop3.2.tgz"
      ]
    },
    {
      "cell_type": "markdown",
      "metadata": {
        "id": "0zzi6FtkNfMn"
      },
      "source": [
        "## Install"
      ]
    },
    {
      "cell_type": "code",
      "execution_count": null,
      "metadata": {
        "id": "pB0mfip2Nj9m"
      },
      "outputs": [],
      "source": [
        "!tar xf spark-3.0.0-bin-hadoop3.2.tgz"
      ]
    },
    {
      "cell_type": "code",
      "execution_count": null,
      "metadata": {
        "colab": {
          "background_save": true
        },
        "id": "Nmhkzp0cNlQb"
      },
      "outputs": [],
      "source": [
        "!pip install -q findspark"
      ]
    },
    {
      "cell_type": "markdown",
      "metadata": {
        "id": "DNFL2hQwNp4r"
      },
      "source": [
        "## Find Spark"
      ]
    },
    {
      "cell_type": "code",
      "execution_count": null,
      "metadata": {
        "colab": {
          "background_save": true
        },
        "id": "CMmb1AGfNra3"
      },
      "outputs": [],
      "source": [
        "import os\n",
        "os.environ[\"JAVA_HOME\"] = \"/usr/lib/jvm/java-8-openjdk-amd64\"\n",
        "os.environ[\"SPARK_HOME\"] = \"/content/spark-3.0.0-bin-hadoop3.2\""
      ]
    },
    {
      "cell_type": "code",
      "execution_count": null,
      "metadata": {
        "colab": {
          "background_save": true
        },
        "id": "KRMSKXPnNye9",
        "outputId": "9f46eb62-726b-40c4-b2d7-9e7924ec3473"
      },
      "outputs": [
        {
          "data": {
            "application/vnd.google.colaboratory.intrinsic+json": {
              "type": "string"
            },
            "text/plain": [
              "'/content/spark-3.0.0-bin-hadoop3.2'"
            ]
          },
          "execution_count": 7,
          "metadata": {},
          "output_type": "execute_result"
        }
      ],
      "source": [
        "import findspark\n",
        "findspark.init()\n",
        "findspark.find()"
      ]
    },
    {
      "cell_type": "markdown",
      "metadata": {
        "id": "hr0oAIW7IO2B"
      },
      "source": [
        "# Imports"
      ]
    },
    {
      "cell_type": "code",
      "execution_count": null,
      "metadata": {
        "colab": {
          "background_save": true
        },
        "id": "c86aCVYXIR8V"
      },
      "outputs": [],
      "source": [
        "import pyspark\n",
        "from pyspark.sql import SparkSession\n",
        "from pyspark.sql.functions import col\n",
        "from pyspark.sql import Row\n",
        "from pyspark.ml.recommendation import ALS\n",
        "from pyspark.ml.evaluation import RegressionEvaluator\n",
        "import numpy as np\n",
        "from numpy import linalg as LA"
      ]
    },
    {
      "cell_type": "markdown",
      "metadata": {
        "id": "MnSnnK38N4mm"
      },
      "source": [
        "# Spark Session"
      ]
    },
    {
      "cell_type": "code",
      "execution_count": null,
      "metadata": {
        "colab": {
          "background_save": true
        },
        "id": "DQW0ZYx9N56N"
      },
      "outputs": [],
      "source": [
        "spark = SparkSession.builder\\\n",
        "        .master(\"local\")\\\n",
        "        .appName(\"Colab\")\\\n",
        "        .config('spark.ui.port', '4050')\\\n",
        "        .getOrCreate()"
      ]
    },
    {
      "cell_type": "code",
      "execution_count": null,
      "metadata": {
        "colab": {
          "background_save": true
        },
        "id": "stDBDRsBQbUg",
        "outputId": "558a3adb-df71-40fc-ecb9-abce7af0f84a"
      },
      "outputs": [
        {
          "data": {
            "text/html": [
              "\n",
              "            <div>\n",
              "                <p><b>SparkSession - in-memory</b></p>\n",
              "                \n",
              "        <div>\n",
              "            <p><b>SparkContext</b></p>\n",
              "\n",
              "            <p><a href=\"http://707d3143624a:4050\">Spark UI</a></p>\n",
              "\n",
              "            <dl>\n",
              "              <dt>Version</dt>\n",
              "                <dd><code>v3.0.0</code></dd>\n",
              "              <dt>Master</dt>\n",
              "                <dd><code>local</code></dd>\n",
              "              <dt>AppName</dt>\n",
              "                <dd><code>Colab</code></dd>\n",
              "            </dl>\n",
              "        </div>\n",
              "        \n",
              "            </div>\n",
              "        "
            ],
            "text/plain": [
              "<pyspark.sql.session.SparkSession at 0x7f05701aea90>"
            ]
          },
          "execution_count": 10,
          "metadata": {},
          "output_type": "execute_result"
        }
      ],
      "source": [
        "spark"
      ]
    },
    {
      "cell_type": "markdown",
      "metadata": {
        "id": "jeTLgvW5IxUh"
      },
      "source": [
        "# Datasets"
      ]
    },
    {
      "cell_type": "code",
      "execution_count": null,
      "metadata": {
        "colab": {
          "background_save": true
        },
        "id": "fDCZmtiBJkZm"
      },
      "outputs": [],
      "source": [
        "dataset_dir = '/content/drive/MyDrive/Colab Datasets/RecommenderSystem/'\n",
        "\n",
        "game_df = spark.read.csv(dataset_dir + 'games.csv', inferSchema=True, header=True).cache()\n",
        "rating_df = spark.read.csv(dataset_dir +'ratings.csv', inferSchema=True, header=True).cache()"
      ]
    },
    {
      "cell_type": "markdown",
      "metadata": {
        "id": "qCqWzwYUYzlX"
      },
      "source": [
        "## Data preparation"
      ]
    },
    {
      "cell_type": "code",
      "execution_count": null,
      "metadata": {
        "colab": {
          "background_save": true
        },
        "id": "w2-iycbRWVJF"
      },
      "outputs": [],
      "source": [
        "rating_df = rating_df.withColumn('rating_normal', rating_df['rating']/5)\n",
        "game_df = game_df.withColumn('meta_score_normal', game_df['meta_score']/100)"
      ]
    },
    {
      "cell_type": "code",
      "execution_count": null,
      "metadata": {
        "colab": {
          "background_save": true
        },
        "id": "QQk81XYZfUsL"
      },
      "outputs": [],
      "source": [
        "join_df = rating_df.join(game_df, on='game_id')"
      ]
    },
    {
      "cell_type": "code",
      "execution_count": null,
      "metadata": {
        "colab": {
          "background_save": true,
          "base_uri": "https://localhost:8080/"
        },
        "id": "yg2VoOIkTa2X",
        "outputId": "151fe521-db99-48d5-c785-2c767a6c9370"
      },
      "outputs": [
        {
          "name": "stdout",
          "output_type": "stream",
          "text": [
            "+-------+-------+------+-------------+--------------------+------------+--------------------+----------+-----------------+\n",
            "|game_id|user_id|rating|rating_normal|                name|release_date|             summary|meta_score|meta_score_normal|\n",
            "+-------+-------+------+-------------+--------------------+------------+--------------------+----------+-----------------+\n",
            "|      1|    314|     5|          1.0|The Legend of Zel...|   23-Nov-98|As a young boy, L...|        99|             0.99|\n",
            "|      1|    439|     3|          0.6|The Legend of Zel...|   23-Nov-98|As a young boy, L...|        99|             0.99|\n",
            "|      1|    588|     5|          1.0|The Legend of Zel...|   23-Nov-98|As a young boy, L...|        99|             0.99|\n",
            "|      1|   1169|     4|          0.8|The Legend of Zel...|   23-Nov-98|As a young boy, L...|        99|             0.99|\n",
            "|      1|   1185|     4|          0.8|The Legend of Zel...|   23-Nov-98|As a young boy, L...|        99|             0.99|\n",
            "+-------+-------+------+-------------+--------------------+------------+--------------------+----------+-----------------+\n",
            "only showing top 5 rows\n",
            "\n"
          ]
        }
      ],
      "source": [
        "join_df.show(5)"
      ]
    },
    {
      "cell_type": "code",
      "execution_count": null,
      "metadata": {
        "colab": {
          "base_uri": "https://localhost:8080/"
        },
        "id": "ycCf2-y2rPV7",
        "outputId": "ba5af09a-3cf8-48cd-ac58-7bba63631c8e"
      },
      "outputs": [
        {
          "name": "stdout",
          "output_type": "stream",
          "text": [
            "root\n",
            " |-- game_id: integer (nullable = true)\n",
            " |-- user_id: integer (nullable = true)\n",
            " |-- rating: integer (nullable = true)\n",
            " |-- rating_normal: double (nullable = true)\n",
            " |-- name: string (nullable = true)\n",
            " |-- release_date: string (nullable = true)\n",
            " |-- summary: string (nullable = true)\n",
            " |-- meta_score: string (nullable = true)\n",
            " |-- meta_score_normal: double (nullable = true)\n",
            "\n"
          ]
        }
      ],
      "source": [
        "join_df.printSchema()"
      ]
    },
    {
      "cell_type": "code",
      "execution_count": null,
      "metadata": {
        "colab": {
          "background_save": true
        },
        "id": "UcoXv4SHdbph"
      },
      "outputs": [],
      "source": [
        "x = join_df.select('user_id', 'game_id', 'rating_normal')\n",
        "# split into 70 train 30 test\n",
        "train_test_split = x.randomSplit([0.7, 0.3])\n",
        "train = train_test_split[0].withColumnRenamed('rating_normal', 'y')\n",
        "test = train_test_split[1].withColumnRenamed('rating_normal', 'y*')"
      ]
    },
    {
      "cell_type": "code",
      "execution_count": null,
      "metadata": {
        "colab": {
          "background_save": true,
          "base_uri": "https://localhost:8080/"
        },
        "id": "1OPlSAHoiyTu",
        "outputId": "255b3098-8117-44b0-bfe8-e75b22321eac"
      },
      "outputs": [
        {
          "name": "stdout",
          "output_type": "stream",
          "text": [
            " - [Train/Test size] - 686875, 294673\n"
          ]
        }
      ],
      "source": [
        "train_size = train.count()\n",
        "test_size = test.count()\n",
        "\n",
        "print(f''' - [Train/Test size] - {train_size}, {test_size}''')"
      ]
    },
    {
      "cell_type": "markdown",
      "metadata": {
        "id": "Up1ZDl8wjV0-"
      },
      "source": [
        "# ALS model"
      ]
    },
    {
      "cell_type": "code",
      "execution_count": null,
      "metadata": {
        "colab": {
          "background_save": true,
          "base_uri": "https://localhost:8080/"
        },
        "id": "828C-jXljZsF",
        "outputId": "24c35fcb-1c91-4c39-eecb-1ade647a7e21"
      },
      "outputs": [
        {
          "data": {
            "text/plain": [
              "ALS_92f6e2a5e803"
            ]
          },
          "execution_count": 17,
          "metadata": {},
          "output_type": "execute_result"
        }
      ],
      "source": [
        "als = ALS(maxIter=20, regParam=0.01, coldStartStrategy='drop', seed=5)\n",
        "\n",
        "als.setUserCol('user_id')\n",
        "als.setItemCol('game_id')\n",
        "als.setRatingCol('y')"
      ]
    },
    {
      "cell_type": "code",
      "execution_count": null,
      "metadata": {
        "colab": {
          "base_uri": "https://localhost:8080/"
        },
        "id": "0c26-Km6kBnX",
        "outputId": "0a364cf2-b44a-4907-9465-5f60b62087bf"
      },
      "outputs": [
        {
          "name": "stdout",
          "output_type": "stream",
          "text": [
            " - [X] ALS model training is complete.\n"
          ]
        }
      ],
      "source": [
        "model = als.fit(train)\n",
        "print(' - [X] ALS model training is complete.')"
      ]
    },
    {
      "cell_type": "code",
      "execution_count": null,
      "metadata": {
        "colab": {
          "base_uri": "https://localhost:8080/"
        },
        "id": "-HQ_IrUKlO0y",
        "outputId": "d614e67c-0c16-4c5d-9656-857760ab93ed"
      },
      "outputs": [
        {
          "name": "stdout",
          "output_type": "stream",
          "text": [
            " - [X] ALS model training is complete.!\n"
          ]
        }
      ],
      "source": [
        "prediction = model.transform(test)\n",
        "print(' - [X] ALS model training is complete.!')"
      ]
    },
    {
      "cell_type": "code",
      "execution_count": null,
      "metadata": {
        "colab": {
          "base_uri": "https://localhost:8080/"
        },
        "id": "AXmRru3ClKzS",
        "outputId": "824d6aba-eaea-41a6-db1d-87371e1e4123"
      },
      "outputs": [
        {
          "name": "stdout",
          "output_type": "stream",
          "text": [
            "+-------+------------------------------+-----------+----+\n",
            "|user_id|name                          |prediction |y*  |\n",
            "+-------+------------------------------+-----------+----+\n",
            "|20467  |Uncharted 3: Drake's Deception|0.022216773|0.03|\n",
            "|588    |Uncharted 3: Drake's Deception|0.025167719|0.04|\n",
            "|3922   |Uncharted 3: Drake's Deception|0.028978162|0.03|\n",
            "|41282  |Uncharted 3: Drake's Deception|0.030626388|0.03|\n",
            "|6630   |Uncharted 3: Drake's Deception|0.024680307|0.03|\n",
            "|14603  |Uncharted 3: Drake's Deception|0.02730666 |0.04|\n",
            "|15547  |Uncharted 3: Drake's Deception|0.021670384|0.04|\n",
            "|33065  |Uncharted 3: Drake's Deception|0.027454996|0.03|\n",
            "|18361  |Uncharted 3: Drake's Deception|0.028028283|0.04|\n",
            "|11569  |Uncharted 3: Drake's Deception|0.026713159|0.02|\n",
            "+-------+------------------------------+-----------+----+\n",
            "only showing top 10 rows\n",
            "\n"
          ]
        }
      ],
      "source": [
        "prediction.join(game_df, 'game_id').select(\n",
        "    'user_id', 'name', 'prediction', 'y*').show(n=10, truncate=False)"
      ]
    },
    {
      "cell_type": "markdown",
      "metadata": {
        "id": "c3ScENHiowNE"
      },
      "source": [
        "# Evaluation"
      ]
    },
    {
      "cell_type": "code",
      "execution_count": null,
      "metadata": {
        "colab": {
          "base_uri": "https://localhost:8080/"
        },
        "id": "Kt3l2fLNpxyh",
        "outputId": "2f0484e9-ba33-4c46-a133-20736021a50d"
      },
      "outputs": [
        {
          "name": "stdout",
          "output_type": "stream",
          "text": [
            " - [X] [Nan values] - 0\n"
          ]
        }
      ],
      "source": [
        "# Prediction count\n",
        "pred_count = prediction.count()\n",
        "# Drop rows with any missing data\n",
        "prediction = prediction.dropna(how=\"any\", subset=[\"prediction\"])\n",
        "# Clean prediction count\n",
        "clean_pred_count = prediction.count()\n",
        "\n",
        "print(f''' - [X] [Nan values] - {pred_count - clean_pred_count}''')"
      ]
    },
    {
      "cell_type": "code",
      "execution_count": null,
      "metadata": {
        "colab": {
          "base_uri": "https://localhost:8080/"
        },
        "id": "hd4TSu2Loxjh",
        "outputId": "bccbe7fc-a7df-41c6-cdd2-7ccb4cb73840"
      },
      "outputs": [
        {
          "name": "stdout",
          "output_type": "stream",
          "text": [
            " - [X] [Root Mean Square Error] - 0.013039743453157025\n"
          ]
        }
      ],
      "source": [
        "evaluator = RegressionEvaluator(labelCol='y*', predictionCol='prediction', metricName='rmse')\n",
        "rmse = evaluator.evaluate(prediction)\n",
        "print(f''' - [X] [Root Mean Square Error] - {rmse}''')"
      ]
    },
    {
      "cell_type": "markdown",
      "metadata": {
        "id": "XvnzmksXqpjn"
      },
      "source": [
        "# Recommendation System"
      ]
    },
    {
      "cell_type": "markdown",
      "metadata": {
        "id": "Od7-pUm3tDy4"
      },
      "source": [
        "## Cosine Simularity"
      ]
    },
    {
      "cell_type": "code",
      "execution_count": null,
      "metadata": {
        "id": "pYs-GfTHtFQK"
      },
      "outputs": [],
      "source": [
        "def cosine_similarity(vector_1, vector_2):\n",
        "\t\tv1 = np.asarray(vector_1)\n",
        "\t\tv2 = np.asarray(vector_2)\n",
        "\t\tcs = v1.dot(v2) / (LA.norm(v1) * LA.norm(v2))\n",
        "\t\treturn(cs)"
      ]
    },
    {
      "cell_type": "code",
      "execution_count": null,
      "metadata": {
        "colab": {
          "base_uri": "https://localhost:8080/"
        },
        "id": "eBFE51AxqrMF",
        "outputId": "7667dde6-1979-49c3-b792-50634a161172"
      },
      "outputs": [
        {
          "name": "stdout",
          "output_type": "stream",
          "text": [
            "[INP] Enter item index to generate similar recommendations: 4\n",
            "Showing games similar to:\n",
            "+-------+-----------+------------+--------------------+----------+-----------------+\n",
            "|game_id|       name|release_date|             summary|meta_score|meta_score_normal|\n",
            "+-------+-----------+------------+--------------------+----------+-----------------+\n",
            "|      4|SoulCalibur|    8-Sep-99|This is a tale of...|        98|             0.98|\n",
            "+-------+-----------+------------+--------------------+----------+-----------------+\n",
            "\n",
            "+-------+------------------+--------------------+------------+--------------------+----------+-----------------+\n",
            "|game_id|  similarity_score|                name|release_date|             summary|meta_score|meta_score_normal|\n",
            "+-------+------------------+--------------------+------------+--------------------+----------+-----------------+\n",
            "|      5|0.9999999983794955|  Super Mario Galaxy|   12-Nov-07|[Metacritic's 200...|        97|             0.97|\n",
            "|    178|0.9999999978130983|Thief: The Dark P...|   30-Nov-98|Sneak through the...|        92|             0.92|\n",
            "|    265| 0.999999996901229|       Resident Evil|   30-Mar-96|Raccoon City has ...|        91|             0.91|\n",
            "|    326|0.9999999982335117|Dance Dance Revol...|    9-May-01|Dance Dance Revol...|        90|              0.9|\n",
            "|    461|0.9999999976652582|The Walking Dead:...|   21-Nov-12|Assume the role o...|        89|             0.89|\n",
            "+-------+------------------+--------------------+------------+--------------------+----------+-----------------+\n",
            "\n"
          ]
        }
      ],
      "source": [
        "def get_recommendations(similar_df):\n",
        "    recom_df = train.join(similar_df, train.game_id == similar_df.item_index)\n",
        "    recom_df = recom_df.select('game_id', 'similarity_score').distinct()\n",
        "    recom_df = recom_df.orderBy(col('similarity_score').desc()).limit(5)\n",
        "    recom_df = recom_df.join(game_df, on = 'game_id')\n",
        "    recom_df.show()\n",
        " \n",
        "def compute_cosine_similarity(itemFactors, game_id):\n",
        "\t\titem = itemFactors.where(col('id') == game_id).select(col('features'))\n",
        "\t\titem_features = item.rdd.map(lambda x: x.features).first()\n",
        "\n",
        "\t\tres = []\n",
        "\t\tfor row in itemFactors.rdd.toLocalIterator():\n",
        "\t\t\t_id = row.__getattr__('id')\n",
        "\t\t\tfeatures = row.__getattr__('features')\n",
        "\t\t\tsimilarity_score = cosine_similarity(features, item_features)\n",
        "\t\t\tif _id != game_id:\n",
        "\t\t\t\tres.append([_id, similarity_score])\n",
        "\n",
        "\t\tR = Row('item_index', 'similarity_score')\n",
        "\t\treturn spark.createDataFrame([R(col[0], float(col[1])) for col in res])\n",
        "  \n",
        "in_game_id = int(input('[INP] Enter item index to generate similar recommendations: '))\n",
        "print(\"Showing games similar to:\")\n",
        "game_df.filter(col(\"game_id\")==in_game_id).show()\n",
        "similar_itmes_df = compute_cosine_similarity(model.itemFactors, in_game_id)\n",
        "get_recommendations(similar_itmes_df)\n"
      ]
    },
    {
      "cell_type": "markdown",
      "metadata": {
        "id": "dxu0hD0qdCyj"
      },
      "source": [
        "## ALS recommender system"
      ]
    },
    {
      "cell_type": "code",
      "execution_count": null,
      "metadata": {
        "colab": {
          "base_uri": "https://localhost:8080/"
        },
        "id": "DXcUStWxdHaY",
        "outputId": "b58bef06-e39e-4d51-c4ab-7c46694a1fc9"
      },
      "outputs": [
        {
          "name": "stdout",
          "output_type": "stream",
          "text": [
            "+-------+--------------------+\n",
            "|user_id|     recommendations|\n",
            "+-------+--------------------+\n",
            "|    148|[[5207, 0.0344616...|\n",
            "|    463|[[5207, 0.0348015...|\n",
            "|    471|[[5207, 0.0288380...|\n",
            "|    496|[[5207, 0.0405066...|\n",
            "|    833|[[5207, 0.0329119...|\n",
            "+-------+--------------------+\n",
            "only showing top 5 rows\n",
            "\n"
          ]
        }
      ],
      "source": [
        "user_recsys = model.recommendForAllUsers(10)\n",
        "\n",
        "user_recsys.show(5)"
      ]
    },
    {
      "cell_type": "code",
      "execution_count": null,
      "metadata": {
        "colab": {
          "base_uri": "https://localhost:8080/"
        },
        "id": "DgwIU86arBYY",
        "outputId": "1a25eaf9-98f7-48d3-bbf1-e63c792c9e37"
      },
      "outputs": [
        {
          "name": "stdout",
          "output_type": "stream",
          "text": [
            "+-------+--------------------+\n",
            "|user_id|     recommendations|\n",
            "+-------+--------------------+\n",
            "|  32592|[[5207, 0.0368112...|\n",
            "|  35982|[[5207, 0.0344293...|\n",
            "|  19984|[[5207, 0.0454410...|\n",
            "+-------+--------------------+\n",
            "\n"
          ]
        }
      ],
      "source": [
        "user_recsys = model.recommendForUserSubset(join_df.select('user_id').distinct().limit(3), 10)\n",
        "user_recsys.show(10)"
      ]
    },
    {
      "cell_type": "code",
      "execution_count": null,
      "metadata": {
        "colab": {
          "base_uri": "https://localhost:8080/"
        },
        "id": "ixxp2hVrq0vQ",
        "outputId": "259ad9de-6fff-4ba6-acf2-3755669f8ff6"
      },
      "outputs": [
        {
          "data": {
            "text/plain": [
              "DataFrame[game_id: int, recommendations: array<struct<user_id:int,rating:float>>]"
            ]
          },
          "execution_count": 27,
          "metadata": {},
          "output_type": "execute_result"
        }
      ],
      "source": [
        "game_recsys = model.recommendForAllItems(10)\n",
        "\n",
        "game_recsys"
      ]
    },
    {
      "cell_type": "code",
      "execution_count": null,
      "metadata": {
        "colab": {
          "base_uri": "https://localhost:8080/"
        },
        "id": "Cp6eI0o4rTnF",
        "outputId": "3fb39854-8ceb-4f5a-c4bf-0c06358986cd"
      },
      "outputs": [
        {
          "name": "stdout",
          "output_type": "stream",
          "text": [
            "+-------+--------------------+\n",
            "|game_id|     recommendations|\n",
            "+-------+--------------------+\n",
            "|    471|[[21791, 0.039841...|\n",
            "|    463|[[21791, 0.042800...|\n",
            "|    148|[[21791, 0.037504...|\n",
            "+-------+--------------------+\n",
            "\n"
          ]
        }
      ],
      "source": [
        "game_recsys = model.recommendForItemSubset(join_df.select('game_id').distinct().limit(3), 10)\n",
        "game_recsys.show(10)"
      ]
    }
  ],
  "metadata": {
    "colab": {
      "provenance": []
    },
    "kernelspec": {
      "display_name": "Python 3",
      "name": "python3"
    },
    "language_info": {
      "name": "python"
    }
  },
  "nbformat": 4,
  "nbformat_minor": 0
}